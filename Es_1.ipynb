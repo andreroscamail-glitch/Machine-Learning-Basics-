{
  "nbformat": 4,
  "nbformat_minor": 0,
  "metadata": {
    "colab": {
      "provenance": [],
      "authorship_tag": "ABX9TyOKZpBABiORNBgFNn6cZAcC",
      "include_colab_link": true
    },
    "kernelspec": {
      "name": "python3",
      "display_name": "Python 3"
    },
    "language_info": {
      "name": "python"
    }
  },
  "cells": [
    {
      "cell_type": "markdown",
      "metadata": {
        "id": "view-in-github",
        "colab_type": "text"
      },
      "source": [
        "<a href=\"https://colab.research.google.com/github/andreroscamail-glitch/Machine-Learning-Basics-/blob/main/Es_1.ipynb\" target=\"_parent\"><img src=\"https://colab.research.google.com/assets/colab-badge.svg\" alt=\"Open In Colab\"/></a>"
      ]
    },
    {
      "cell_type": "markdown",
      "source": [
        "# Esercizio 1\n",
        "\n",
        "Modello per la stima dei tempi di consegna di un ordine al tempo del pagamento.\n"
      ],
      "metadata": {
        "id": "IUzRiMM2RZs0"
      }
    },
    {
      "cell_type": "markdown",
      "source": [
        "## Strategia e struttura del problema:\n",
        "\n",
        "Vogliamo dividere il problema di stimare il tempo totale di consegna $T$ nei seguenti sotto-problemi:\n",
        " * $T_p$ = tempo di **preparazione** dell'ordine\n",
        " * $T_r$ = tempo che il **rider** impiega a raggiungere il **ristorante**\n",
        " * $T_l$ = tempo di consegna dal ristorante al **luogo** impiegato\n",
        " * conteremo dei piccol bias rispettivi dei 3 tempi principali riadattandoli ogni volta con nuovi dati \"loggati\" e con lo storico."
      ],
      "metadata": {
        "id": "MXiE3jw8SH3t"
      }
    },
    {
      "cell_type": "code",
      "execution_count": null,
      "metadata": {
        "id": "oyb6Kkx_P9BG"
      },
      "outputs": [],
      "source": [
        "# Dipendenze importanti\n",
        "import math\n",
        "import sklearn\n",
        "import numpy as np\n"
      ]
    },
    {
      "cell_type": "markdown",
      "source": [
        "## Fase 1 - \"stima\" di $T_p$\n",
        "Notazione:\n",
        "Indichiamo con $p_{Ri}$, l'$i$-esimo prodotto del ristorante $R$, appartenente alla lista di ristoranti $\\{R_1, R_2, ..., R_m\\}$. (Quindi il limite di $i$ dipenderà dal ristorante $R$)\n",
        "\n",
        "\n",
        "Per quanto riguarda il tempo di preparazione $t_{Rpi}$ di un prodotto $p_{Ri}$ del ristorante $R$, ci si affida quasi interamente ristorante, responsabile di fornire una stima quanto più precisa della preparazione tenendo conto dell'affollamento in quel momento oppure fornendo i due dati separatamente.\n",
        "\n",
        "\n",
        "Sarà sufficiente consultare nell'istante del pagamento, il valore di $t_{Rpi}$ aggiornato secondo la stima dell'affollamento.\n",
        "\n",
        "A questo punto abbiamo una prima stima grezza di $T$ ovvero: $T \\geq T_p$"
      ],
      "metadata": {
        "id": "RErWYRlqR0jj"
      }
    },
    {
      "cell_type": "markdown",
      "source": [
        "## Fase 2 - stima di $T_l$\n",
        "\n",
        "Notazione: Indichiamo con $rid_i$, l'$i$-esimo rider del database Riders = $\\{rid_1, rid_2, ..., rid_n\\}$.\n",
        "\n",
        "\n",
        "Si procede con una scansione (tramite API di Google Maps) dei driver etichettati con **liberi** in un raggio di $k$ km e si registra:\n",
        "* Numero di riders liberi $f$\n",
        "* Proporzione tra i mezzi utililzzati da tali riders (ex. 8 moto, 2 macchine --> 4:1 --> 80 % probabilità che un rider con la moto accetti l'incarico etc...)\n",
        "\n",
        "A quel punto Google Maps fornirebbe $T_l$ per tutti e tre i mezzi possibili (ipotizziamo: auto, moto, bici) in modo estremamente preciso tenendo già conto della data, del traffico, degli incidenti...\n",
        "Da qui si potrebbe considerare $T_l$ rispettivo del mezzo più probabile oppure fare una media pesata dei tempi corrispondenti ai vari mezzi.\n",
        "\n",
        "Il tutto potrebbe essere pesato anche rispetto ai dati già acquisiti sulle velocità medie di ogni $rid_i$.\n",
        "\n",
        "(Esempio: se ci sono 2 automobili disponibili, 3 moto disponibili e 1 bici disponibile, il tempo per raggiungere il luogo $T_l$ potrebbe essere molto vicino a $T_{lm}$ + un peso che moltiplica $T_{la}$ + un peso ancora più piccolo che moltiplica $T_{lb})\n",
        "\n",
        "\n",
        "\n",
        "### Casi particolari\n",
        "* Se non ci sono riders in un raggio $k$, si aumenta il raggio finchè non si trovano, oppure finchè non si raggiunge un limite prestabilito.\n",
        "* Se tutti i riders disponibili hanno lo stesso mezzo di trasporto è sufficiente calcolare (Tramite Google Maps) $T_l$ relativo a quel mezzo di trasporto; per migliorare la stima si possono pesare le velictà medie dei riders disponibili per massimizzare l'entropia in caso non ci fosse nessua informazione sulla probabilità con cui in certo rider accetti un certo ordine. A quel punto il ragionamento cambierebbe.\n",
        "* Se tutti i riders disponibili contano lo stesso numero di mezzi di ogni tipologia, è sufficiente una media aritmetica di $T_l$ relativo a ogni tipo"
      ],
      "metadata": {
        "id": "DX4rfkI2aSzA"
      }
    },
    {
      "cell_type": "markdown",
      "source": [
        "## Fase 3 - stima di $T_r$"
      ],
      "metadata": {
        "id": "OMRKoyVffy9k"
      }
    }
  ]
}